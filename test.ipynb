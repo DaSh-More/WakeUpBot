{
 "cells": [
  {
   "cell_type": "code",
   "execution_count": 2,
   "metadata": {},
   "outputs": [],
   "source": [
    "import re "
   ]
  },
  {
   "cell_type": "code",
   "execution_count": 36,
   "metadata": {},
   "outputs": [],
   "source": [
    "times = [\n",
    "    \"6-7\",\n",
    "    \"9:00\",\n",
    "    \"6:00-8:00\",\n",
    "    \"7:00\",\n",
    "    \"7:00\",\n",
    "    \"7:00-8:00\",\n",
    "    \"7:30 - 8:30\",\n",
    "    \"7:00\",\n",
    "    \"8:00-10:00\",\n",
    "    \"9:00-9:30\",\n",
    "    \"7.00-7.30\",\n",
    "    \"8:00\",\n",
    "    \"6:45\",\n",
    "    \"09:00-10:00\",\n",
    "    \"7:00-8:30\",\n",
    "    \"8:00-9:00\",\n",
    "    \"9:00-9:30\",\n",
    "    \"9:00-9:30\",\n",
    "    \"7.00-7.30\",\n",
    "    \"8:00 - 9:00\",\n",
    "    \"9:00-9:30\",\n",
    "    \"7:00-9:00\",\n",
    "    \"6:30\",\n",
    "    \"5:00\",\n",
    "    \"7.30-8.30\",\n",
    "    \"6-7\",\n",
    "    \"9 - 10\",\n",
    "    \"9-00\",\n",
    "    \"7:30-9:00\",\n",
    "    \"9:00-10:00\",\n",
    "    \"8-9\",\n",
    "    \"8-9\",\n",
    "    \"7:30 - 9:00\",\n",
    "    \"\",\n",
    "    \"\",\n",
    "    \"\",\n",
    "    \"\",\n",
    "    \"\",\n",
    "    \"\",\n",
    "    \"\",\n",
    "    \"\",\n",
    "]"
   ]
  },
  {
   "cell_type": "code",
   "execution_count": 38,
   "metadata": {},
   "outputs": [],
   "source": [
    "from datetime import time, datetime"
   ]
  },
  {
   "cell_type": "code",
   "execution_count": 40,
   "metadata": {},
   "outputs": [
    {
     "data": {
      "text/plain": [
       "True"
      ]
     },
     "execution_count": 40,
     "metadata": {},
     "output_type": "execute_result"
    }
   ],
   "source": [
    "datetime.now().time() > time(8, 3)"
   ]
  },
  {
   "cell_type": "code",
   "execution_count": 51,
   "metadata": {},
   "outputs": [
    {
     "name": "stdout",
     "output_type": "stream",
     "text": [
      "07:00:00\n",
      "09:00:00\n",
      "08:00:00\n",
      "07:00:00\n",
      "07:00:00\n",
      "08:00:00\n",
      "08:30:00\n",
      "07:00:00\n",
      "10:00:00\n",
      "09:30:00\n",
      "07:30:00\n",
      "08:00:00\n",
      "06:45:00\n",
      "10:00:00\n",
      "08:30:00\n",
      "09:00:00\n",
      "09:30:00\n",
      "09:30:00\n",
      "07:30:00\n",
      "09:00:00\n",
      "09:30:00\n",
      "09:00:00\n",
      "06:30:00\n",
      "05:00:00\n",
      "08:30:00\n",
      "07:00:00\n",
      "10:00:00\n",
      "00:00:00\n",
      "09:00:00\n",
      "10:00:00\n",
      "09:00:00\n",
      "09:00:00\n",
      "09:00:00\n"
     ]
    }
   ],
   "source": [
    "for i in times:\n",
    "    message_time = re.findall(r\"\\d+(?:[:\\.]\\d+)?\", i.replace(\" \", \"\"))\n",
    "    if not message_time:\n",
    "        continue\n",
    "    message_time = time(*map(int, (re.findall(r\"\\d+\", message_time[-1]))))\n",
    "    print(message_time)"
   ]
  }
 ],
 "metadata": {
  "kernelspec": {
   "display_name": "Python 3",
   "language": "python",
   "name": "python3"
  },
  "language_info": {
   "codemirror_mode": {
    "name": "ipython",
    "version": 3
   },
   "file_extension": ".py",
   "mimetype": "text/x-python",
   "name": "python",
   "nbconvert_exporter": "python",
   "pygments_lexer": "ipython3",
   "version": "3.12.4"
  }
 },
 "nbformat": 4,
 "nbformat_minor": 2
}
